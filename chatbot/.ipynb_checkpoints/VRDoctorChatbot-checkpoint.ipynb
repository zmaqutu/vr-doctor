{
 "cells": [
  {
   "cell_type": "code",
   "execution_count": 1,
   "metadata": {},
   "outputs": [],
   "source": [
    "# VR Doctor Chatbot Program"
   ]
  },
  {
   "cell_type": "code",
   "execution_count": 3,
   "metadata": {},
   "outputs": [
    {
     "name": "stdout",
     "output_type": "stream",
     "text": [
      "Requirement already satisfied: nltk in c:\\users\\tpmap\\anaconda3\\lib\\site-packages (3.4)\n",
      "Requirement already satisfied: six in c:\\users\\tpmap\\anaconda3\\lib\\site-packages (from nltk) (1.12.0)\n",
      "Requirement already satisfied: singledispatch in c:\\users\\tpmap\\anaconda3\\lib\\site-packages (from nltk) (3.4.0.3)\n",
      "Note: you may need to restart the kernel to use updated packages.\n"
     ]
    }
   ],
   "source": [
    "pip install nltk"
   ]
  },
  {
   "cell_type": "code",
   "execution_count": 4,
   "metadata": {},
   "outputs": [
    {
     "name": "stdout",
     "output_type": "stream",
     "text": [
      "Requirement already satisfied: newspaper3k in c:\\users\\tpmap\\anaconda3\\lib\\site-packages (0.2.8)\n",
      "Requirement already satisfied: lxml>=3.6.0 in c:\\users\\tpmap\\anaconda3\\lib\\site-packages (from newspaper3k) (4.3.2)\n",
      "Requirement already satisfied: Pillow>=3.3.0 in c:\\users\\tpmap\\anaconda3\\lib\\site-packages (from newspaper3k) (5.4.1)\n",
      "Requirement already satisfied: PyYAML>=3.11 in c:\\users\\tpmap\\anaconda3\\lib\\site-packages (from newspaper3k) (5.1)\n",
      "Requirement already satisfied: nltk>=3.2.1 in c:\\users\\tpmap\\anaconda3\\lib\\site-packages (from newspaper3k) (3.4)\n",
      "Requirement already satisfied: requests>=2.10.0 in c:\\users\\tpmap\\anaconda3\\lib\\site-packages (from newspaper3k) (2.21.0)\n",
      "Requirement already satisfied: cssselect>=0.9.2 in c:\\users\\tpmap\\anaconda3\\lib\\site-packages (from newspaper3k) (1.1.0)\n",
      "Requirement already satisfied: feedfinder2>=0.0.4 in c:\\users\\tpmap\\anaconda3\\lib\\site-packages (from newspaper3k) (0.0.4)\n",
      "Requirement already satisfied: tinysegmenter==0.3 in c:\\users\\tpmap\\anaconda3\\lib\\site-packages (from newspaper3k) (0.3)\n",
      "Requirement already satisfied: beautifulsoup4>=4.4.1 in c:\\users\\tpmap\\anaconda3\\lib\\site-packages (from newspaper3k) (4.7.1)\n",
      "Requirement already satisfied: jieba3k>=0.35.1 in c:\\users\\tpmap\\anaconda3\\lib\\site-packages (from newspaper3k) (0.35.1)\n",
      "Requirement already satisfied: feedparser>=5.2.1 in c:\\users\\tpmap\\anaconda3\\lib\\site-packages (from newspaper3k) (6.0.2)\n",
      "Requirement already satisfied: tldextract>=2.0.1 in c:\\users\\tpmap\\anaconda3\\lib\\site-packages (from newspaper3k) (3.1.0)\n",
      "Requirement already satisfied: python-dateutil>=2.5.3 in c:\\users\\tpmap\\anaconda3\\lib\\site-packages (from newspaper3k) (2.8.0)\n",
      "Requirement already satisfied: six in c:\\users\\tpmap\\anaconda3\\lib\\site-packages (from nltk>=3.2.1->newspaper3k) (1.12.0)\n",
      "Requirement already satisfied: singledispatch in c:\\users\\tpmap\\anaconda3\\lib\\site-packages (from nltk>=3.2.1->newspaper3k) (3.4.0.3)\n",
      "Requirement already satisfied: certifi>=2017.4.17 in c:\\users\\tpmap\\anaconda3\\lib\\site-packages (from requests>=2.10.0->newspaper3k) (2019.3.9)\n",
      "Requirement already satisfied: chardet<3.1.0,>=3.0.2 in c:\\users\\tpmap\\anaconda3\\lib\\site-packages (from requests>=2.10.0->newspaper3k) (3.0.4)\n",
      "Requirement already satisfied: urllib3<1.25,>=1.21.1 in c:\\users\\tpmap\\anaconda3\\lib\\site-packages (from requests>=2.10.0->newspaper3k) (1.24.1)\n",
      "Requirement already satisfied: idna<2.9,>=2.5 in c:\\users\\tpmap\\anaconda3\\lib\\site-packages (from requests>=2.10.0->newspaper3k) (2.8)\n",
      "Requirement already satisfied: soupsieve>=1.2 in c:\\users\\tpmap\\anaconda3\\lib\\site-packages (from beautifulsoup4>=4.4.1->newspaper3k) (1.8)\n",
      "Requirement already satisfied: sgmllib3k in c:\\users\\tpmap\\anaconda3\\lib\\site-packages (from feedparser>=5.2.1->newspaper3k) (1.0.0)\n",
      "Requirement already satisfied: filelock>=3.0.8 in c:\\users\\tpmap\\anaconda3\\lib\\site-packages (from tldextract>=2.0.1->newspaper3k) (3.0.10)\n",
      "Requirement already satisfied: requests-file>=1.4 in c:\\users\\tpmap\\anaconda3\\lib\\site-packages (from tldextract>=2.0.1->newspaper3k) (1.5.1)\n",
      "Note: you may need to restart the kernel to use updated packages.\n"
     ]
    }
   ],
   "source": [
    "pip install newspaper3k"
   ]
  },
  {
   "cell_type": "code",
   "execution_count": 5,
   "metadata": {},
   "outputs": [
    {
     "data": {
      "text/plain": [
       "True"
      ]
     },
     "execution_count": 5,
     "metadata": {},
     "output_type": "execute_result"
    }
   ],
   "source": [
    "# Import libraries\n",
    "from newspaper import Article\n",
    "import random\n",
    "import string\n",
    "import nltk\n",
    "from sklearn.feature_extraction.text import CountVectorizer\n",
    "from sklearn.metrics.pairwise import cosine_similarity\n",
    "import numpy as np\n",
    "import warnings\n",
    "warnings.filterwarnings('ignore')\n",
    "\n",
    "# Import Packages\n",
    "import pandas as pd\n",
    "import requests\n",
    "import tarfile\n",
    "from os import path\n",
    "from nltk.stem.porter import *\n",
    "from nltk.tokenize import word_tokenize\n",
    "nltk.download('punkt', quiet=True)"
   ]
  },
  {
   "cell_type": "code",
   "execution_count": 6,
   "metadata": {},
   "outputs": [
    {
     "data": {
      "text/plain": [
       "14900"
      ]
     },
     "execution_count": 6,
     "metadata": {},
     "output_type": "execute_result"
    }
   ],
   "source": [
    "# Get the dataset\n",
    "fname = 'covid-19-questions.tar.gz'\n",
    "url = 'https://dax-cdn.cdn.appdomain.cloud/dax-covid-19-questions/1.0.0/' + fname\n",
    "r = requests.get(url)\n",
    "open(fname , 'wb').write(r.content)"
   ]
  },
  {
   "cell_type": "code",
   "execution_count": 11,
   "metadata": {},
   "outputs": [
    {
     "data": {
      "text/plain": [
       "True"
      ]
     },
     "execution_count": 11,
     "metadata": {},
     "output_type": "execute_result"
    }
   ],
   "source": [
    "# Extract the dataset\n",
    "tar = tarfile.open(fname)\n",
    "tar.extractall()\n",
    "tar.close()\n",
    "\n",
    "# Verify success\n",
    "data_path = \"covid-19-questions/\"\n",
    "path.exists(data_path)"
   ]
  },
  {
   "cell_type": "code",
   "execution_count": 32,
   "metadata": {},
   "outputs": [],
   "source": [
    "# Read the dataset\n",
    "data = pd.read_csv('covid-19-questions/covid_19_questions.tsv', sep='\\t')"
   ]
  },
  {
   "cell_type": "code",
   "execution_count": 34,
   "metadata": {},
   "outputs": [
    {
     "name": "stdout",
     "output_type": "stream",
     "text": [
      "0                       [Can, my, friends, visit, me, ?]\n",
      "1      [Can, someone, come, see, me, during, quaranti...\n",
      "2      [Is, anyone, allowed, to, visit, during, quara...\n",
      "3      [What, is, a, safe, distance, when, someone, b...\n",
      "4                 [Are, quarantined, visits, allowed, ?]\n",
      "                             ...                        \n",
      "839                     [events, and, large, gatherings]\n",
      "840    [When, will, the, NCAA, championships, be, hel...\n",
      "841             [What, sports, are, being, cancelled, ?]\n",
      "842    [Will, I, get, a, refund, for, a, ticket, I, p...\n",
      "843               [can, I, still, attend, a, conference]\n",
      "Name: tokenized, Length: 844, dtype: object\n"
     ]
    }
   ],
   "source": [
    "# Get tokenized data\n",
    "data['tokenized'] = data['utterance'].apply(lambda x: word_tokenize(x)) \n",
    "\n",
    "print(data['tokenized'])"
   ]
  },
  {
   "cell_type": "code",
   "execution_count": 20,
   "metadata": {},
   "outputs": [
    {
     "name": "stdout",
     "output_type": "stream",
     "text": [
      "Editor's note: For the latest updates on the 2020 coronavirus outbreak, see our news coverage .\n",
      "\n",
      "What Is COVID-19?\n",
      "\n",
      "A coronavirus is a kind of common virus that causes an infection in your nose, sinuses, or upper throat. Most coronaviruses aren't dangerous.\n",
      "\n",
      "In early 2020, after a December 2019 outbreak in China, the World Health Organization identified SARS-CoV-2 as a new type of coronavirus. The outbreak quickly spread around the world.\n",
      "\n",
      "COVID-19 is a disease caused by SARS-CoV-2 that can trigger what doctors call a respiratory tract infection. It can affect your upper respiratory tract (sinuses, nose, and throat) or lower respiratory tract (windpipe and lungs).\n",
      "\n",
      "It spreads the same way other coronaviruses do, mainly through person-to-person contact. Infections range from mild to deadly.\n",
      "\n",
      "SARS-CoV-2 is one of seven types of coronavirus, including the ones that cause severe diseases like Middle East respiratory syndrome (MERS) and sudden acute respiratory syndrome (SARS). The other coronaviruses cause most of the colds that affect us during the year but aren’t a serious threat for otherwise healthy people.\n",
      "\n",
      "Is there more than one strain of SARS-CoV-2?\n",
      "\n",
      "It’s normal for a virus to change, or mutate, as it infects people. A Chinese study of 103 COVID-19 cases suggests the virus that causes it has done just that. They found two strains, which they named L and S. The S type is older, but the L type was more common in early stages of the outbreak. They think one may cause more cases of the disease than the other, but they’re still working on what it all means.\n",
      "\n",
      "How long will the coronavirus last?\n",
      "\n",
      "It’s too soon to tell how long the pandemic will continue. It depends on many things, including researchers’ work to learn more about the virus, their search for a treatment, the sucess of the vaccines, and the public’s efforts to slow the spread.\n"
     ]
    }
   ],
   "source": [
    "article = Article('https://www.webmd.com/lung/coronavirus')\n",
    "article.download()\n",
    "article.html\n",
    "article.parse()\n",
    "article.nlp()\n",
    "\n",
    "older_adults = article.text\n",
    "print(older_adults)"
   ]
  },
  {
   "cell_type": "code",
   "execution_count": 21,
   "metadata": {},
   "outputs": [],
   "source": [
    "# Tokenization\n",
    "text = older_adults\n",
    "sentence_list = nltk.sent_tokenize(text) # A list of sentences"
   ]
  },
  {
   "cell_type": "code",
   "execution_count": 9,
   "metadata": {},
   "outputs": [],
   "source": [
    "# Function to return a greeting to user's greeting\n",
    "def greeting(text):\n",
    "    text = text.lower()\n",
    "    \n",
    "    # User's greetings\n",
    "    user_greetings = ['hi', 'hello', 'morning', 'evening', 'afternoon', 'hey']\n",
    "    # Chatbot greeting response\n",
    "    vrDoctor_greetings = ['Hello', 'Hi', 'Greetings']\n",
    "    \n",
    "    for greeting in text.split():\n",
    "        if greeting in user_greetings:\n",
    "            return random.choice(vrDoctor_greetings)\n",
    "    "
   ]
  },
  {
   "cell_type": "code",
   "execution_count": 10,
   "metadata": {},
   "outputs": [],
   "source": [
    "def index_sort(list_var):\n",
    "    length = len(list_var)\n",
    "    list_index = list(range(0, length))\n",
    "    \n",
    "    x = list_var\n",
    "    # Sort the list variable by highest value\n",
    "    for i in range(length):\n",
    "        for j in range(length):\n",
    "            if x[list_index[i]] > x[list_index[j]]:\n",
    "                # Swap the values\n",
    "                temp = list_index[i]\n",
    "                list_index[i] = list_index[j]\n",
    "                list_index[j] = temp\n",
    "    return list_index"
   ]
  },
  {
   "cell_type": "code",
   "execution_count": null,
   "metadata": {},
   "outputs": [],
   "source": [
    "# Create bot response\n",
    "def chatbot_response(user_input):\n",
    "    user_input = user_input.lower()\n",
    "    sentence_list.append(user_input)\n",
    "    \n",
    "    bot_response = '' # Empty response\n",
    "    cm = CountVectorizer().fit_transform(sentence_list)\n",
    "    \n",
    "    similarity_scores = cosine_similarity(cm[ 1], cm)\n",
    "    similarity_scores_list = similarity_scores.flatten() # Reduce dimentionality\n",
    "    \n",
    "    index = index_sort(similarity_scores_list) # List of similarity scores arrangeed by highest\n",
    "    index = index[1:]\n",
    "    response_flag = 0\n",
    "    \n",
    "    similar = 0\n",
    "    for i in range(len(index)):\n",
    "        if similarity_scores_list[index[i]] > 0.0:\n",
    "            bot_response = bot_response + ' ' + sentence_list[index[i]]\n",
    "            response_flag = 1\n",
    "            similar = similar + 1\n",
    "        if similar > 2:\n",
    "            break\n",
    "    \n",
    "    if response_flag == 0:\n",
    "        bot_response = bot_response + ' ' + \"I'm sorry, I don't understand what you said there, please repeat your question.\"\n",
    "    \n",
    "    sentence_list.remove(user_input)\n",
    "    \n",
    "    return bot_response"
   ]
  },
  {
   "cell_type": "code",
   "execution_count": null,
   "metadata": {},
   "outputs": [],
   "source": [
    "# Start the chatbot\n",
    "print('VR Doctor: Hi! I am a Virtual Doctor here to answer any questions about the Novel Coronavirus and older adults. Please tell me your name.')\n",
    "\n",
    "exit_list = ['exit', 'bye', 'goodbye', 'quit', 'see you', 'see you later', 'leaving']\n",
    "name = input()\n",
    "print('Your name: ', name)\n",
    "\n",
    "while(True):\n",
    "    print(name, ': ')\n",
    "    user_input = input()\n",
    "    if user_input.lower() in exit_list:\n",
    "        print('VR Doctor: Bye! Chat to you later.')\n",
    "        break\n",
    "    \n",
    "    else:\n",
    "        if greeting(user_input) != None:\n",
    "            print('VR Doctor: ' + greeting(user_input))\n",
    "        else:\n",
    "            print('VR Doctor: ' + chatbot_response(user_input))"
   ]
  }
 ],
 "metadata": {
  "kernelspec": {
   "display_name": "Python 3",
   "language": "python",
   "name": "python3"
  },
  "language_info": {
   "codemirror_mode": {
    "name": "ipython",
    "version": 3
   },
   "file_extension": ".py",
   "mimetype": "text/x-python",
   "name": "python",
   "nbconvert_exporter": "python",
   "pygments_lexer": "ipython3",
   "version": "3.7.3"
  }
 },
 "nbformat": 4,
 "nbformat_minor": 2
}
